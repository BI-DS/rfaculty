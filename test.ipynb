{
  "cells": [
    {
      "cell_type": "raw",
      "metadata": {},
      "source": [
        "---\n",
        "format:\n",
        "  live-revealjs:\n",
        "    theme: default\n",
        "title: Example Slides\n",
        "webr:\n",
        "  cell-options:\n",
        "    autorun: true\n",
        "    fig-width: 11\n",
        "    fig-height: 5\n",
        "---"
      ],
      "id": "64c40312"
    },
    {
      "cell_type": "markdown",
      "metadata": {},
      "source": [
        "{{< include ./_extensions/r-wasm/live/_knitr.qmd >}}\n",
        "\n",
        "## Editable examples\n",
        "\n",
        "```{webr}\n",
        "#| edit: false\n",
        "#| output: false\n",
        "#| define: \n",
        "#|   - values\n",
        "#|   - lm_sum\n",
        "\n",
        "values <- colnames(mtcars)[-1]\n",
        "\n",
        "lm_sum <- \\(vars) {\n",
        "  data <- mtcars[c(\"mpg\", vars)]\n",
        "  print(summary(lm(mpg ~ ., data = data)))\n",
        "}\n",
        "\n",
        "```\n",
        "\n",
        "```{ojs}\n",
        "viewof val = Inputs.checkbox(values, {\n",
        "  label: \"Var\",\n",
        "  value: \"wt\"\n",
        "})\n",
        "lm_sum(val)\n",
        "```\n"
      ],
      "id": "a218a563"
    }
  ],
  "metadata": {
    "kernelspec": {
      "name": "python3",
      "language": "python",
      "display_name": "Python 3 (ipykernel)"
    }
  },
  "nbformat": 4,
  "nbformat_minor": 5
}